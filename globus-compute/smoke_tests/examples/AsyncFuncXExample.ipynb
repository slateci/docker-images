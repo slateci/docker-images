{
 "cells": [
  {
   "cell_type": "code",
   "execution_count": null,
   "outputs": [],
   "source": [
    "import logging\n",
    "logging.basicConfig(level=logging.INFO)\n",
    "logging.getLogger('globus_compute_sdk.sdk.asynchronous.polling_task').setLevel(logging.DEBUG)\n"
   ],
   "metadata": {
    "collapsed": false,
    "pycharm": {
     "name": "#%%\n"
    }
   }
  },
  {
   "attachments": {},
   "cell_type": "markdown",
   "source": [
    "# Asynchronous Globus Compute Example\n",
    "This example creates an asynchronous Globus Compute Client and shows up to receive results"
   ],
   "metadata": {
    "collapsed": false,
    "pycharm": {
     "name": "#%% md\n"
    }
   }
  },
  {
   "cell_type": "code",
   "execution_count": null,
   "metadata": {
    "pycharm": {
     "name": "#%%\n"
    }
   },
   "outputs": [],
   "source": [
    "# Public tutorial endpoint: 4b116d3c-1703-4f8f-9f6f-39921e5864df\n",
    "tutorial_endpoint = 'aaaaaaaa-aaaa-aaaa-aaaa-aaaaaaaaaaaa'\n",
    "\n",
    "from globus_compute_sdk.sdk.client import Client\n",
    "gcc = Client(funcx_service_address='http://localhost:5000/api/v1', asynchronous=True)\n"
   ],
   "metadata": {
    "collapsed": false,
    "pycharm": {
     "name": "#%%\n"
    }
   }
  },
  {
   "cell_type": "code",
   "execution_count": null,
   "metadata": {
    "pycharm": {
     "name": "#%%\n"
    }
   },
   "outputs": [],
   "source": [
    "# Public tutorial endpoint: 4b116d3c-1703-4f8f-9f6f-39921e5864df\n",
    "tutorial_endpoint = 'aaaaaaaa-aaaa-aaaa-aaaa-aaaaaaaaaaaa'\n",
    "\n",
    "from globus_compute_sdk import Client\n",
    "gcc = Client(funcx_service_address='http://localhost:5000/api/v1', asynchronous=True)\n"
   ]
  },
  {
   "cell_type": "code",
   "execution_count": null,
   "metadata": {
    "pycharm": {
     "name": "#%%\n"
    }
   },
   "outputs": [],
   "source": [
    "def sum1(nums):\n",
    "    import time\n",
    "    time.sleep(10)\n",
    "    return sum(nums)\n",
    "\n",
    "func_id = gcc.register_function(sum1)\n",
    "func_id\n"
   ]
  },
  {
   "cell_type": "code",
   "execution_count": null,
   "metadata": {
    "pycharm": {
     "name": "#%%\n"
    }
   },
   "outputs": [],
   "source": [
    "task = gcc.run([1, 2, 3, 45, 66], function_id=func_id, endpoint_id=tutorial_endpoint)\n",
    "task\n"
   ]
  },
  {
   "cell_type": "code",
   "execution_count": null,
   "metadata": {
    "pycharm": {
     "name": "#%%\n"
    }
   },
   "outputs": [],
   "source": [
    "import asyncio\n",
    "await task\n",
    "print(task.result())\n"
   ]
  },
  {
   "cell_type": "code",
   "execution_count": null,
   "metadata": {
    "pycharm": {
     "name": "#%%\n"
    }
   },
   "outputs": [],
   "source": [
    "def boom(l):\n",
    "    return l/0\n",
    "\n",
    "func_id2 = gcc.register_function(boom)\n",
    "func_id2\n"
   ]
  },
  {
   "cell_type": "code",
   "execution_count": null,
   "metadata": {
    "pycharm": {
     "name": "#%%\n"
    }
   },
   "outputs": [],
   "source": [
    "task2 = gcc.run([1, 2, 3, 45, 66], function_id=func_id2, endpoint_id=tutorial_endpoint)\n",
    "await task2\n",
    "print(task2.result())\n"
   ]
  }
 ],
 "metadata": {
  "kernelspec": {
   "display_name": "Python 3",
   "language": "python",
   "name": "python3"
  },
  "language_info": {
   "codemirror_mode": {
    "name": "ipython",
    "version": 3
   },
   "file_extension": ".py",
   "mimetype": "text/x-python",
   "name": "python",
   "nbconvert_exporter": "python",
   "pygments_lexer": "ipython3",
   "version": "3.8.5"
  }
 },
 "nbformat": 4,
 "nbformat_minor": 4
}
